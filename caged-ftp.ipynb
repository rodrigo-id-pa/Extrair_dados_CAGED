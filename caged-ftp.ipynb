{
 "cells": [
  {
   "cell_type": "code",
   "execution_count": 16,
   "id": "c548bd8d-5851-46c4-880e-049bcba08809",
   "metadata": {},
   "outputs": [
    {
     "name": "stdout",
     "output_type": "stream",
     "text": [
      "ftplib já está instalada.\n",
      "io já está instalada.\n",
      "py7zr já está instalada.\n",
      "pandas já está instalada.\n",
      "os já está instalada.\n",
      "datetime já está instalada.\n",
      "unidecode já está instalada.\n",
      "pyodbc já está instalada.\n",
      "sqlite3 já está instalada.\n"
     ]
    }
   ],
   "source": [
    "# lista de bibliotecas\n",
    "import importlib\n",
    "import subprocess\n",
    "\n",
    "# Lista de bibliotecas que você precisa verificar\n",
    "bibliotecas = ['ftplib', 'io', 'py7zr', 'pandas', 'os', 'datetime', 'unidecode', 'pyodbc', 'sqlite3']\n",
    "\n",
    "# Verifica se cada biblioteca está instalada e, se necessário, instala\n",
    "for biblioteca in bibliotecas:\n",
    "    try:\n",
    "        importlib.import_module(biblioteca)\n",
    "        print(f'{biblioteca} já está instalada.')\n",
    "    except ImportError:\n",
    "        print(f'{biblioteca} não está instalada. Instalando...')\n",
    "        subprocess.check_call(['pip', 'install', biblioteca])\n",
    "        print(f'{biblioteca} instalada com sucesso.')        "
   ]
  },
  {
   "cell_type": "code",
   "execution_count": 17,
   "id": "866ce467-b488-47ee-817c-b8a713cba9ed",
   "metadata": {},
   "outputs": [],
   "source": [
    "# lista de bibliotecas\n",
    "from ftplib import FTP\n",
    "from py7zr import SevenZipFile\n",
    "import pandas as pd\n",
    "import os\n",
    "import datetime as dt\n",
    "from unidecode import unidecode\n",
    "import pyodbc\n",
    "import io\n",
    "import sqlite3"
   ]
  },
  {
   "cell_type": "code",
   "execution_count": 18,
   "id": "43fc59c8",
   "metadata": {},
   "outputs": [],
   "source": [
    "# importando as bases\n",
    "cnae = pd.read_excel('./bases/cnae_classe.xlsx')\n",
    "regional = pd.read_excel('./bases/base_regional.xlsx')\n",
    "cbo = pd.read_excel('./bases/estrutura_cbo.xlsx')"
   ]
  },
  {
   "cell_type": "code",
   "execution_count": 19,
   "id": "3e801a8a-0362-40e7-b293-fd13b91909d1",
   "metadata": {},
   "outputs": [],
   "source": [
    "# função para remover acentuação dos dataframes\n",
    "def remover_acentuacao_titulos(df):\n",
    "    df = df.rename(columns=lambda x: unidecode(x) if isinstance(x, str) else x)\n",
    "    return df"
   ]
  },
  {
   "cell_type": "code",
   "execution_count": 20,
   "id": "97bd51a1-8383-460d-a2d6-c4ea79c239ed",
   "metadata": {},
   "outputs": [],
   "source": [
    "dataframes = {}                    # Dicionário para armazenar os DataFrames\n",
    "data = dt.datetime.now()           # data atual\n",
    "ano = int(data.strftime(\"%Y\"))     #  pegando apenas o ano como inteiro\n",
    "meses = [\"01\", \"02\", \"03\", \"04\", \"05\", \"06\", \"07\", \"08\", \"09\", \"10\", \"11\", \"12\"]       # array de meses"
   ]
  },
  {
   "cell_type": "code",
   "execution_count": 21,
   "id": "da51b623-7858-4432-b2b6-80418a167ad5",
   "metadata": {},
   "outputs": [],
   "source": [
    "url = 'ftp.mtps.gov.br'  # URL do servidor FTP\n",
    "diretorio = f'/pdet/microdados/NOVO CAGED/{ano}'  # Diretório desejado\n",
    "ftp = FTP(url)\n",
    "ftp.login()  # Realiza o login no servidor FTP\n",
    "ftp.cwd(diretorio)  # Navega para o diretório desejado\n",
    "diretorios = ftp.nlst()  # Obtém a lista de diretórios no diretório atual\n",
    "diretorios_ordenados = sorted(diretorios)  # Ordena a lista de diretórios em ordem crescente\n",
    "ultimo_diretorio = diretorios_ordenados[0]  # Seleciona o último diretório\n",
    "ftp.cwd(ultimo_diretorio) # Acessando a pasta atual\n",
    "arquivos = ftp.nlst() # listando os arquivos"
   ]
  },
  {
   "cell_type": "code",
   "execution_count": 22,
   "id": "b14ba0da-a818-4e3c-b290-8f000c972f72",
   "metadata": {},
   "outputs": [
    {
     "name": "stdout",
     "output_type": "stream",
     "text": [
      "CAGEDEXC202301.7z\n",
      "CAGEDFOR202301.7z\n",
      "CAGEDMOV202301.7z\n"
     ]
    }
   ],
   "source": [
    "for arquivo in arquivos:    # listando os arquivos da ultima pasta\n",
    "    print(arquivo)"
   ]
  },
  {
   "cell_type": "code",
   "execution_count": 23,
   "id": "4275036d-9a9e-4100-99cf-acc0681a1156",
   "metadata": {},
   "outputs": [
    {
     "data": {
      "text/plain": [
       "'221 Goodbye.'"
      ]
     },
     "execution_count": 23,
     "metadata": {},
     "output_type": "execute_result"
    }
   ],
   "source": [
    "# percorrendo cada arquivo\n",
    "for arquivo in arquivos:\n",
    "    if arquivo.endswith('.7z'):  # Verifica se o arquivo é do tipo 7z\n",
    "        with io.BytesIO() as mem_file:\n",
    "            ftp.retrbinary('RETR ' + arquivo, mem_file.write)  # Baixa o arquivo 7z em memória\n",
    "            mem_file.seek(0)  # Reposiciona o ponteiro do arquivo no início            \n",
    "            with SevenZipFile(mem_file, mode='r') as archive:\n",
    "                archive.extractall()  # Extrai o conteúdo do arquivo 7z                \n",
    "            nome_arquivo_txt = os.path.splitext(arquivo)[0] + '.txt'  # Obtém o nome do arquivo txt\n",
    "            with open(nome_arquivo_txt, 'r', encoding='UTF-8') as file:\n",
    "                # Processa o arquivo txt conforme necessário, por exemplo, lendo como um DataFrame:\n",
    "                df = pd.read_csv(file, sep=';')                \n",
    "            os.remove(nome_arquivo_txt)  # Remove o arquivo txt extraído do 7z            \n",
    "            # Armazena o DataFrame no dicionário\n",
    "            nome_variavel = os.path.splitext(arquivo)[0].replace('CAGEDEST_', '')  # Define o nome da variável\n",
    "            dataframes[nome_variavel] = df\n",
    "ftp.quit()  # Encerra a conexão com o servidor FTP"
   ]
  },
  {
   "cell_type": "code",
   "execution_count": 24,
   "id": "9f3154c0-3157-4952-bae4-216ff4652085",
   "metadata": {},
   "outputs": [],
   "source": [
    "# Obter a lista de dataframes\n",
    "lista_dataframes = list(dataframes.values())\n",
    "\n",
    "# Atribuir cada dataframe a uma variável pelo índice correspondente\n",
    "cagedxc = lista_dataframes[0]\n",
    "cagedfor = lista_dataframes[1]\n",
    "cagedmov = lista_dataframes[2]\n",
    "\n",
    "# remover acentuação dos dataframes\n",
    "cagedmov = remover_acentuacao_titulos(cagedmov)\n",
    "cagedxc = remover_acentuacao_titulos(cagedxc)\n",
    "cagedfor = remover_acentuacao_titulos(cagedfor)"
   ]
  },
  {
   "cell_type": "code",
   "execution_count": 25,
   "id": "f5ca6006-18f9-45bc-96a9-c667a0b6533f",
   "metadata": {},
   "outputs": [],
   "source": [
    "dataframes = [cagedmov, cagedfor, cagedxc] # lista com os dataframes\n",
    "colunas_numericas = ['idade']              # coluna idade\n",
    "colunas_texto = ['valorsalariofixo', 'salario', 'horascontratuais'] # coluna valorsalariofixo', 'salario', 'horascontratuais'\n",
    "\n",
    "for df in dataframes:        # percorrendo os dataframes\n",
    "    for coluna in colunas_numericas:          # percorrendo a coluna idade\n",
    "        df[coluna].fillna(0, inplace=True)    # substituindo os valores nulos por 0\n",
    "        df[coluna] = df[coluna].astype('int64')   # convertendo coluna idade de float para int\n",
    "        df['mesano_referencia'] = ultimo_diretorio[-2:] + ultimo_diretorio[:-2]  # Pegando mês de referência do FTP\n",
    "    \n",
    "    for coluna in colunas_texto: # percorrendo as colunas tipo texto\n",
    "        df[coluna].fillna('', inplace=True) # # substituindo os valores nulos por vazios ''"
   ]
  },
  {
   "cell_type": "code",
   "execution_count": 26,
   "id": "511da1e0-6158-46a4-ae1e-c4d79d9f9c5d",
   "metadata": {},
   "outputs": [],
   "source": [
    "# substituindo o 0 por campo vazios da coluna idade para seguir o padrão as outras colunas\n",
    "cagedmov.idade = cagedmov.idade.replace(0, '') \n",
    "cagedxc.idade = cagedxc.idade.replace(0, '')\n",
    "cagedfor.idade = cagedfor.idade.replace(0, '')"
   ]
  },
  {
   "cell_type": "code",
   "execution_count": 75,
   "id": "220e68fc-4856-40b5-b615-6a6462bf4a25",
   "metadata": {},
   "outputs": [],
   "source": [
    "# Conectando ao banco de dados\n",
    "conn = pyodbc.connect('Driver={SQL Server};'\n",
    "                      'Server=MEU SERVIDOR;'\n",
    "                      'Database=EXEMPLO;'\n",
    "                      'encondig=latin1;'\n",
    "                      'Trusted_Connection=True;')"
   ]
  },
  {
   "cell_type": "code",
   "execution_count": 76,
   "id": "5be75883-2414-49f0-a930-077beae48d91",
   "metadata": {},
   "outputs": [],
   "source": [
    "# Nome das tabelas no banco de dados\n",
    "tb_cagedmov = 'cagedmovDEV'\n",
    "tb_cagedexc = 'cagedexcDEV'\n",
    "tb_cagedfor = 'cagedforDEV'"
   ]
  },
  {
   "cell_type": "code",
   "execution_count": 77,
   "id": "b6f32062-3a1b-42d8-a663-3aceda27b96e",
   "metadata": {},
   "outputs": [],
   "source": [
    "# Criando um cursor para executar as operações no banco de dados\n",
    "cursor = conn.cursor()"
   ]
  },
  {
   "cell_type": "code",
   "execution_count": 78,
   "id": "78796c8d-215c-4231-8344-76bf979d0544",
   "metadata": {},
   "outputs": [],
   "source": [
    "# Limpando as tabelas\n",
    "tabelas = [tb_cagedmov, tb_cagedexc, tb_cagedfor]\n",
    "\n",
    "# Itera sobre cada tabela na lista\n",
    "for tabela in tabelas:\n",
    "    cursor.execute(f'TRUNCATE TABLE {tabela}')"
   ]
  },
  {
   "cell_type": "code",
   "execution_count": 79,
   "id": "04881266-5250-47ad-95bb-1827822aa272",
   "metadata": {},
   "outputs": [],
   "source": [
    "# Inserindo os dados do DataFrame CAGEDEXC na tabela CAGEDEXC\n",
    "for index, row in cagedxc.iterrows():\n",
    "    cursor.execute(f\"INSERT INTO {tb_cagedexc} \\\n",
    "    (competenciamov, regiao, uf, municipio, secao, subclasse,\\\n",
    "    saldomovimentacao, cbo2002ocupacao, categoria, graudeinstrucao,\\\n",
    "    idade, horascontratuais, racacor, sexo, tipoempregador,\\\n",
    "    tipoestabelecimento, tipomovimentacao, tipodedeficiencia,\\\n",
    "    indtrabintermitente, indtrabparcial, salario, tamestabjan,\\\n",
    "    indicadoraprendiz, origemdainformacao, competenciadec, competenciaexc,\\\n",
    "    indicadordeexclusao, indicadordeforadoprazo, unidadesalariocodigo, valorsalariofixo,\\\n",
    "    mesano_referencia) \\\n",
    "    VALUES (?, ?, ?, ?, ?, ?, ?, ?, ?, ?, ?, ?, ?, ?, ?, ?, ?, ?, ?, ?, ?, ?, ?, ?, ?, ?, ?, ?, ?, ?, ?)\",\n",
    "    (row['competenciamov'], row['regiao'], row['uf'], row['municipio'], row['secao'], row['subclasse'], \\\n",
    "    row['saldomovimentacao'], row['cbo2002ocupacao'], row['categoria'], row['graudeinstrucao'], \\\n",
    "    row['idade'], str(row['horascontratuais']), row['racacor'], row['sexo'], row['tipoempregador'], \\\n",
    "    row['tipoestabelecimento'], row['tipomovimentacao'], row['tipodedeficiencia'], row['indtrabintermitente'], \\\n",
    "    row['indtrabparcial'], str(row['salario']), row['tamestabjan'], row['indicadoraprendiz'], row['origemdainformacao'], \\\n",
    "    row['competenciadec'], row['competenciaexc'], row['indicadordeexclusao'], row['indicadordeforadoprazo'], \\\n",
    "    row['unidadesalariocodigo'], str(row['valorsalariofixo']), row['mesano_referencia']))\n"
   ]
  },
  {
   "cell_type": "code",
   "execution_count": 80,
   "id": "205a7c67-1787-4b2b-b42e-0f700ce3ea96",
   "metadata": {},
   "outputs": [],
   "source": [
    "# Inserindo os dados do DataFrame CAGEDFOR na tabela CAGEDFOR\n",
    "for index, row in cagedfor.iterrows():\n",
    "    cursor.execute(f\"INSERT INTO {tb_cagedfor} \\\n",
    "    (competenciamov, regiao, uf, municipio, secao, subclasse,\\\n",
    "    saldomovimentacao, cbo2002ocupacao, categoria, graudeinstrucao,\\\n",
    "    idade, horascontratuais, racacor, sexo, tipoempregador,\\\n",
    "    tipoestabelecimento, tipomovimentacao, tipodedeficiencia,\\\n",
    "    indtrabintermitente, indtrabparcial, salario, tamestabjan,\\\n",
    "    indicadoraprendiz, origemdainformacao, competenciadec,\\\n",
    "    indicadordeforadoprazo, unidadesalariocodigo, valorsalariofixo,\\\n",
    "    mesano_referencia) \\\n",
    "    VALUES (?, ?, ?, ?, ?, ?, ?, ?, ?, ?, ?, ?, ?, ?, ?, ?, ?, ?, ?, ?, ?, ?, ?, ?, ?, ?, ?, ?, ?)\",\n",
    "    (row['competenciamov'], row['regiao'], row['uf'], row['municipio'], row['secao'], row['subclasse'], \\\n",
    "    row['saldomovimentacao'], row['cbo2002ocupacao'], row['categoria'], row['graudeinstrucao'], \\\n",
    "    row['idade'], str(row['horascontratuais']), row['racacor'], row['sexo'], row['tipoempregador'], \\\n",
    "    row['tipoestabelecimento'], row['tipomovimentacao'], row['tipodedeficiencia'], row['indtrabintermitente'], \\\n",
    "    row['indtrabparcial'], str(row['salario']), row['tamestabjan'], row['indicadoraprendiz'], row['origemdainformacao'], \\\n",
    "    row['competenciadec'], row['indicadordeforadoprazo'], row['unidadesalariocodigo'], str(row['valorsalariofixo']), \\\n",
    "    row['mesano_referencia']))"
   ]
  },
  {
   "cell_type": "code",
   "execution_count": 81,
   "id": "043d3aa5",
   "metadata": {
    "tags": []
   },
   "outputs": [],
   "source": [
    "# Inserindo os dados do DataFrame CAGEDMOV na tabela CAGEDMOV\n",
    "for index, row in cagedmov.iterrows():\n",
    "    cursor.execute(f\"INSERT INTO {tb_cagedmov} \\\n",
    "    (competenciamov, regiao, uf, municipio, secao, subclasse,\\\n",
    "    saldomovimentacao, cbo2002ocupacao, categoria, graudeinstrucao,\\\n",
    "    idade, horascontratuais, racacor, sexo, tipoempregador,\\\n",
    "    tipoestabelecimento, tipomovimentacao, tipodedeficiencia,\\\n",
    "    indtrabintermitente, indtrabparcial, salario, tamestabjan,\\\n",
    "    indicadoraprendiz, origemdainformacao, competenciadec,\\\n",
    "    indicadordeforadoprazo, unidadesalariocodigo, valorsalariofixo,\\\n",
    "    mesano_referencia) \\\n",
    "    VALUES (?, ?, ?, ?, ?, ?, ?, ?, ?, ?, ?, ?, ?, ?, ?, ?, ?, ?, ?, ?, ?, ?, ?, ?, ?, ?, ?, ?, ?)\",\n",
    "    (row['competenciamov'], row['regiao'], row['uf'], row['municipio'], row['secao'], row['subclasse'], \\\n",
    "    row['saldomovimentacao'], row['cbo2002ocupacao'], row['categoria'], row['graudeinstrucao'], \\\n",
    "    row['idade'], str(row['horascontratuais']), row['racacor'], row['sexo'], row['tipoempregador'], \\\n",
    "    row['tipoestabelecimento'], row['tipomovimentacao'], row['tipodedeficiencia'], row['indtrabintermitente'], \\\n",
    "    row['indtrabparcial'], str(row['salario']), row['tamestabjan'], row['indicadoraprendiz'], row['origemdainformacao'], \\\n",
    "    row['competenciadec'], row['indicadordeforadoprazo'], row['unidadesalariocodigo'], str(row['valorsalariofixo']), \\\n",
    "    row['mesano_referencia']))"
   ]
  },
  {
   "cell_type": "code",
   "execution_count": 82,
   "id": "95187e7a-a5ee-4c9e-996e-fb0d0017219e",
   "metadata": {},
   "outputs": [
    {
     "name": "stdout",
     "output_type": "stream",
     "text": [
      "dados injetados com sucesso no banco de dados.\n"
     ]
    }
   ],
   "source": [
    "conn.commit() # Confirmando as alterações no banco de dados\n",
    "conn.close() # Fechando a conexão com o banco de dados\n",
    "print(\"dados injetados com sucesso no banco de dados.\") # comentário final para o power automate capturar"
   ]
  },
  {
   "cell_type": "code",
   "execution_count": 28,
   "id": "86f948cc",
   "metadata": {},
   "outputs": [
    {
     "data": {
      "text/plain": [
       "3665155"
      ]
     },
     "execution_count": 28,
     "metadata": {},
     "output_type": "execute_result"
    }
   ],
   "source": [
    "#### EXPORTANDO EXCEL FILTRADO ###\n",
    "\n",
    "# Criar uma conexão com um banco de dados em memória\n",
    "conn = sqlite3.connect(':memory:')\n",
    "\n",
    "# Carregar os dataframes como tabelas SQL\n",
    "cbo.to_sql('CBO_ESTRUTURA', conn, index=False)\n",
    "cnae.to_sql('CNAE_CLASSES', conn, index=False)\n",
    "regional.to_sql('BASE_REGIONAL', conn, index=False)\n",
    "cagedmov.to_sql('cagedmovDEV', conn, index=False)"
   ]
  },
  {
   "cell_type": "code",
   "execution_count": 29,
   "id": "a59e254d",
   "metadata": {},
   "outputs": [
    {
     "name": "stdout",
     "output_type": "stream",
     "text": [
      "executou com sucesso.\n"
     ]
    }
   ],
   "source": [
    "# Executar a consulta SQL\n",
    "try:\n",
    "    query = '''\n",
    "    SELECT \n",
    "        cgmov.mesano_referencia,\n",
    "        CASE cgmov.sexo\n",
    "            WHEN 1 THEN 'Homem'\n",
    "            WHEN 3 THEN 'Mulher'\n",
    "            WHEN 9 THEN 'Nao identificado'\n",
    "        END AS [SEXO],\n",
    "        CASE\n",
    "            WHEN idade > 0 AND idade <= 17 THEN 'até 17 anos'\n",
    "            WHEN idade > 17 AND idade <= 24 THEN 'de 18 a 24 anos'\n",
    "            WHEN idade > 24 AND idade <= 29 THEN 'de 25 a 29 anos'\n",
    "            WHEN idade > 29 AND idade <= 39 THEN 'de 30 a 39 anos'\n",
    "            WHEN idade > 39 AND idade <= 49 THEN 'de 40 a 49 anos'\n",
    "            WHEN idade > 49 AND idade <= 64 THEN 'de 50 a 64 anos'\n",
    "            WHEN idade >= 65 THEN 'de 65 anos ou mais'\n",
    "            ELSE 'sem idade'\n",
    "        END AS Faixa_Etaria,  \n",
    "        CASE cgmov.saldomovimentacao\n",
    "            WHEN 1 THEN 'Admissão'\n",
    "            WHEN -1 THEN 'Demitidos'\n",
    "        END AS [ADMITIDOS  / DEMITIDOS],\n",
    "        baserg.COD_UF,\n",
    "        baserg.SIGLA_UF,\n",
    "        baserg.NOME_UF,\n",
    "        baserg.COD_REGIAO,\n",
    "        baserg.NOME_REGIAO,\n",
    "        CASE\n",
    "            WHEN graudeinstrucao = '1' THEN 'Analfabetos'\n",
    "            WHEN graudeinstrucao IN ('2', '3', '4') THEN 'Fundamental incompleto'\n",
    "            WHEN graudeinstrucao = '5' THEN 'Fundamental completo'\n",
    "            WHEN graudeinstrucao = '6' THEN 'Médio incompleto'\n",
    "            WHEN graudeinstrucao = '7' THEN 'Médio completo'\n",
    "            WHEN graudeinstrucao = '8' THEN 'Superior incompleto'\n",
    "            WHEN graudeinstrucao IN ('9', '10', '11', '80') THEN 'Superior completo'\n",
    "            ELSE 'Não identificado'\n",
    "        END AS [Grau de Instrucao],\n",
    "        cnae.COD_CNAE_CLASSE,\n",
    "        cnae.DESC_CNAE_CLASSE,\n",
    "        cbo.COD_CBO_GRUPO,\n",
    "        cbo.DESC_CBO_GRUPO,\n",
    "        cbo.COD_CBO_PSUB,\n",
    "        cbo.DESC_CBO_PSUB,\n",
    "        cbo.COD_CBO_SUBGRUPO,\n",
    "        cbo.DESC_CBO_SUBGRUPO,\n",
    "        cbo.COD_CBO_FAMILIA,\n",
    "        cbo.DESC_CBO_FAMILIA,\n",
    "        cbo.COD_CBO_OCUP,\n",
    "        cbo.DESC_CBO_OCUP\n",
    "    FROM cagedmovDEV cgmov\n",
    "    INNER JOIN CBO_ESTRUTURA cbo ON cbo.COD_CBO_OCUP = cgmov.cbo2002ocupacao\n",
    "    INNER JOIN CNAE_CLASSES cnae ON cgmov.subclasse = cnae.COD_CNAE_SUBCLASSE\n",
    "    INNER JOIN BASE_REGIONAL baserg ON baserg.COD_MUNIC = cgmov.municipio\n",
    "    WHERE cnae.COD_CNAE_CLASSE IN \n",
    "    ('19217', '19225', '20215', '20312', '46818', '46826', '47318', '28518', '30113', '30121', '33171', \n",
    "    '6000', '9106', '52311', '52320', '52397', '50114', '50122', '50211', '50301')\n",
    "    '''\n",
    "    result = pd.read_sql_query(query, conn)\n",
    "    conn.close()\n",
    "    print('executou com sucesso.')\n",
    "except OSError as e:                                               \n",
    "    print(f\"Erro: {str(e)}\")"
   ]
  },
  {
   "cell_type": "code",
   "execution_count": 30,
   "id": "c33db689",
   "metadata": {},
   "outputs": [
    {
     "name": "stdout",
     "output_type": "stream",
     "text": [
      "excel exportado\n"
     ]
    }
   ],
   "source": [
    "result.to_excel('./bases/df_final.xlsx', index=False)\n",
    "print('excel exportado')"
   ]
  },
  {
   "cell_type": "code",
   "execution_count": 31,
   "id": "31d1f81a-42df-44e6-8aee-81973c23132c",
   "metadata": {},
   "outputs": [
    {
     "data": {
      "text/html": [
       "<div>\n",
       "<style scoped>\n",
       "    .dataframe tbody tr th:only-of-type {\n",
       "        vertical-align: middle;\n",
       "    }\n",
       "\n",
       "    .dataframe tbody tr th {\n",
       "        vertical-align: top;\n",
       "    }\n",
       "\n",
       "    .dataframe thead th {\n",
       "        text-align: right;\n",
       "    }\n",
       "</style>\n",
       "<table border=\"1\" class=\"dataframe\">\n",
       "  <thead>\n",
       "    <tr style=\"text-align: right;\">\n",
       "      <th></th>\n",
       "      <th>mesano_referencia</th>\n",
       "      <th>SEXO</th>\n",
       "      <th>Faixa_Etaria</th>\n",
       "      <th>ADMITIDOS  / DEMITIDOS</th>\n",
       "      <th>COD_UF</th>\n",
       "      <th>SIGLA_UF</th>\n",
       "      <th>NOME_UF</th>\n",
       "      <th>COD_REGIAO</th>\n",
       "      <th>NOME_REGIAO</th>\n",
       "      <th>Grau de Instrucao</th>\n",
       "      <th>...</th>\n",
       "      <th>COD_CBO_GRUPO</th>\n",
       "      <th>DESC_CBO_GRUPO</th>\n",
       "      <th>COD_CBO_PSUB</th>\n",
       "      <th>DESC_CBO_PSUB</th>\n",
       "      <th>COD_CBO_SUBGRUPO</th>\n",
       "      <th>DESC_CBO_SUBGRUPO</th>\n",
       "      <th>COD_CBO_FAMILIA</th>\n",
       "      <th>DESC_CBO_FAMILIA</th>\n",
       "      <th>COD_CBO_OCUP</th>\n",
       "      <th>DESC_CBO_OCUP</th>\n",
       "    </tr>\n",
       "  </thead>\n",
       "  <tbody>\n",
       "    <tr>\n",
       "      <th>0</th>\n",
       "      <td>012023</td>\n",
       "      <td>Homem</td>\n",
       "      <td>de 50 a 64 anos</td>\n",
       "      <td>Demitidos</td>\n",
       "      <td>13</td>\n",
       "      <td>AM</td>\n",
       "      <td>Amazonas</td>\n",
       "      <td>1</td>\n",
       "      <td>Norte</td>\n",
       "      <td>Superior completo</td>\n",
       "      <td>...</td>\n",
       "      <td>5</td>\n",
       "      <td>TRABALHADORES DOS SERVIÇOS, VENDEDORES DO COMÉ...</td>\n",
       "      <td>51</td>\n",
       "      <td>TRABALHADORES DOS SERVIÇOS                    ...</td>\n",
       "      <td>517</td>\n",
       "      <td>TRABALHADORES NOS SERVIÇOS DE PROTEÇÃO E SEGUR...</td>\n",
       "      <td>5173</td>\n",
       "      <td>Vigilantes e guardas de segurança</td>\n",
       "      <td>517330</td>\n",
       "      <td>Vigilante</td>\n",
       "    </tr>\n",
       "    <tr>\n",
       "      <th>1</th>\n",
       "      <td>012023</td>\n",
       "      <td>Mulher</td>\n",
       "      <td>de 40 a 49 anos</td>\n",
       "      <td>Demitidos</td>\n",
       "      <td>13</td>\n",
       "      <td>AM</td>\n",
       "      <td>Amazonas</td>\n",
       "      <td>1</td>\n",
       "      <td>Norte</td>\n",
       "      <td>Médio completo</td>\n",
       "      <td>...</td>\n",
       "      <td>1</td>\n",
       "      <td>MEMBROS SUPERIORES DO PODER PÚBLICO, DIRIGENTE...</td>\n",
       "      <td>14</td>\n",
       "      <td>GERENTES                                      ...</td>\n",
       "      <td>142</td>\n",
       "      <td>GERENTES DE ÁREAS DE APOIO                    ...</td>\n",
       "      <td>1424</td>\n",
       "      <td>Gerentes de suprimentos e afins</td>\n",
       "      <td>142415</td>\n",
       "      <td>Gerente de almoxarifado</td>\n",
       "    </tr>\n",
       "    <tr>\n",
       "      <th>2</th>\n",
       "      <td>012023</td>\n",
       "      <td>Homem</td>\n",
       "      <td>de 25 a 29 anos</td>\n",
       "      <td>Admissão</td>\n",
       "      <td>21</td>\n",
       "      <td>MA</td>\n",
       "      <td>Maranhão</td>\n",
       "      <td>2</td>\n",
       "      <td>Nordeste</td>\n",
       "      <td>Superior completo</td>\n",
       "      <td>...</td>\n",
       "      <td>1</td>\n",
       "      <td>MEMBROS SUPERIORES DO PODER PÚBLICO, DIRIGENTE...</td>\n",
       "      <td>14</td>\n",
       "      <td>GERENTES                                      ...</td>\n",
       "      <td>142</td>\n",
       "      <td>GERENTES DE ÁREAS DE APOIO                    ...</td>\n",
       "      <td>1423</td>\n",
       "      <td>Gerentes de comercialização, marketing e comun...</td>\n",
       "      <td>142345</td>\n",
       "      <td>Profissional de relações institucionais e gove...</td>\n",
       "    </tr>\n",
       "    <tr>\n",
       "      <th>3</th>\n",
       "      <td>012023</td>\n",
       "      <td>Homem</td>\n",
       "      <td>de 40 a 49 anos</td>\n",
       "      <td>Admissão</td>\n",
       "      <td>21</td>\n",
       "      <td>MA</td>\n",
       "      <td>Maranhão</td>\n",
       "      <td>2</td>\n",
       "      <td>Nordeste</td>\n",
       "      <td>Superior completo</td>\n",
       "      <td>...</td>\n",
       "      <td>2</td>\n",
       "      <td>PROFISSIONAIS DAS CIÊNCIAS E DAS ARTES        ...</td>\n",
       "      <td>21</td>\n",
       "      <td>PROFISSIONAIS DAS CIÊNCIAS EXATAS, FÍSICAS E D...</td>\n",
       "      <td>214</td>\n",
       "      <td>ENGENHEIROS, ARQUITETOS E AFINS               ...</td>\n",
       "      <td>2142</td>\n",
       "      <td>Engenheiros civis e afins</td>\n",
       "      <td>214205</td>\n",
       "      <td>Engenheiro civil</td>\n",
       "    </tr>\n",
       "    <tr>\n",
       "      <th>4</th>\n",
       "      <td>012023</td>\n",
       "      <td>Homem</td>\n",
       "      <td>de 30 a 39 anos</td>\n",
       "      <td>Admissão</td>\n",
       "      <td>21</td>\n",
       "      <td>MA</td>\n",
       "      <td>Maranhão</td>\n",
       "      <td>2</td>\n",
       "      <td>Nordeste</td>\n",
       "      <td>Médio completo</td>\n",
       "      <td>...</td>\n",
       "      <td>3</td>\n",
       "      <td>TÉCNICOS DE NIVEL MÉDIO                       ...</td>\n",
       "      <td>31</td>\n",
       "      <td>TÉCNICOS DE NÍVEL MÉDIO DAS CIÊNCIAS FÍSICAS, ...</td>\n",
       "      <td>311</td>\n",
       "      <td>TÉCNICO EM CIÊNCIAS FÍSICAS E QUÍMICAS        ...</td>\n",
       "      <td>3111</td>\n",
       "      <td>Técnicos químicos</td>\n",
       "      <td>311105</td>\n",
       "      <td>Técnico químico</td>\n",
       "    </tr>\n",
       "    <tr>\n",
       "      <th>...</th>\n",
       "      <td>...</td>\n",
       "      <td>...</td>\n",
       "      <td>...</td>\n",
       "      <td>...</td>\n",
       "      <td>...</td>\n",
       "      <td>...</td>\n",
       "      <td>...</td>\n",
       "      <td>...</td>\n",
       "      <td>...</td>\n",
       "      <td>...</td>\n",
       "      <td>...</td>\n",
       "      <td>...</td>\n",
       "      <td>...</td>\n",
       "      <td>...</td>\n",
       "      <td>...</td>\n",
       "      <td>...</td>\n",
       "      <td>...</td>\n",
       "      <td>...</td>\n",
       "      <td>...</td>\n",
       "      <td>...</td>\n",
       "      <td>...</td>\n",
       "    </tr>\n",
       "    <tr>\n",
       "      <th>41852</th>\n",
       "      <td>012023</td>\n",
       "      <td>Homem</td>\n",
       "      <td>de 25 a 29 anos</td>\n",
       "      <td>Admissão</td>\n",
       "      <td>42</td>\n",
       "      <td>SC</td>\n",
       "      <td>Santa Catarina</td>\n",
       "      <td>4</td>\n",
       "      <td>Sul</td>\n",
       "      <td>Médio incompleto</td>\n",
       "      <td>...</td>\n",
       "      <td>7</td>\n",
       "      <td>TRABALHADORES DA PRODUÇÃO DE BENS E SERVIÇOS I...</td>\n",
       "      <td>78</td>\n",
       "      <td>TRABALHADORES DE FUNÇÕES TRANSVERSAIS         ...</td>\n",
       "      <td>782</td>\n",
       "      <td>CONDUTORES DE VEÍCULOS E OPERADORES DE EQUIPAM...</td>\n",
       "      <td>7827</td>\n",
       "      <td>Trabalhadores aquaviários</td>\n",
       "      <td>782705</td>\n",
       "      <td>Marinheiro de convés (marítimo e fluviário)</td>\n",
       "    </tr>\n",
       "    <tr>\n",
       "      <th>41853</th>\n",
       "      <td>012023</td>\n",
       "      <td>Homem</td>\n",
       "      <td>de 50 a 64 anos</td>\n",
       "      <td>Admissão</td>\n",
       "      <td>42</td>\n",
       "      <td>SC</td>\n",
       "      <td>Santa Catarina</td>\n",
       "      <td>4</td>\n",
       "      <td>Sul</td>\n",
       "      <td>Médio completo</td>\n",
       "      <td>...</td>\n",
       "      <td>7</td>\n",
       "      <td>TRABALHADORES DA PRODUÇÃO DE BENS E SERVIÇOS I...</td>\n",
       "      <td>78</td>\n",
       "      <td>TRABALHADORES DE FUNÇÕES TRANSVERSAIS         ...</td>\n",
       "      <td>782</td>\n",
       "      <td>CONDUTORES DE VEÍCULOS E OPERADORES DE EQUIPAM...</td>\n",
       "      <td>7827</td>\n",
       "      <td>Trabalhadores aquaviários</td>\n",
       "      <td>782705</td>\n",
       "      <td>Marinheiro de convés (marítimo e fluviário)</td>\n",
       "    </tr>\n",
       "    <tr>\n",
       "      <th>41854</th>\n",
       "      <td>012023</td>\n",
       "      <td>Homem</td>\n",
       "      <td>de 40 a 49 anos</td>\n",
       "      <td>Admissão</td>\n",
       "      <td>42</td>\n",
       "      <td>SC</td>\n",
       "      <td>Santa Catarina</td>\n",
       "      <td>4</td>\n",
       "      <td>Sul</td>\n",
       "      <td>Médio completo</td>\n",
       "      <td>...</td>\n",
       "      <td>7</td>\n",
       "      <td>TRABALHADORES DA PRODUÇÃO DE BENS E SERVIÇOS I...</td>\n",
       "      <td>78</td>\n",
       "      <td>TRABALHADORES DE FUNÇÕES TRANSVERSAIS         ...</td>\n",
       "      <td>782</td>\n",
       "      <td>CONDUTORES DE VEÍCULOS E OPERADORES DE EQUIPAM...</td>\n",
       "      <td>7827</td>\n",
       "      <td>Trabalhadores aquaviários</td>\n",
       "      <td>782710</td>\n",
       "      <td>Marinheiro de máquinas</td>\n",
       "    </tr>\n",
       "    <tr>\n",
       "      <th>41855</th>\n",
       "      <td>012023</td>\n",
       "      <td>Homem</td>\n",
       "      <td>de 25 a 29 anos</td>\n",
       "      <td>Admissão</td>\n",
       "      <td>42</td>\n",
       "      <td>SC</td>\n",
       "      <td>Santa Catarina</td>\n",
       "      <td>4</td>\n",
       "      <td>Sul</td>\n",
       "      <td>Médio completo</td>\n",
       "      <td>...</td>\n",
       "      <td>7</td>\n",
       "      <td>TRABALHADORES DA PRODUÇÃO DE BENS E SERVIÇOS I...</td>\n",
       "      <td>78</td>\n",
       "      <td>TRABALHADORES DE FUNÇÕES TRANSVERSAIS         ...</td>\n",
       "      <td>782</td>\n",
       "      <td>CONDUTORES DE VEÍCULOS E OPERADORES DE EQUIPAM...</td>\n",
       "      <td>7827</td>\n",
       "      <td>Trabalhadores aquaviários</td>\n",
       "      <td>782720</td>\n",
       "      <td>Moço de máquinas (marítimo e fluviário)</td>\n",
       "    </tr>\n",
       "    <tr>\n",
       "      <th>41856</th>\n",
       "      <td>012023</td>\n",
       "      <td>Homem</td>\n",
       "      <td>de 30 a 39 anos</td>\n",
       "      <td>Demitidos</td>\n",
       "      <td>43</td>\n",
       "      <td>RS</td>\n",
       "      <td>Rio Grande do Sul</td>\n",
       "      <td>4</td>\n",
       "      <td>Sul</td>\n",
       "      <td>Médio completo</td>\n",
       "      <td>...</td>\n",
       "      <td>5</td>\n",
       "      <td>TRABALHADORES DOS SERVIÇOS, VENDEDORES DO COMÉ...</td>\n",
       "      <td>51</td>\n",
       "      <td>TRABALHADORES DOS SERVIÇOS                    ...</td>\n",
       "      <td>511</td>\n",
       "      <td>TRABALHADORES DOS SERVIÇOS DE TRANSPORTE E TUR...</td>\n",
       "      <td>5112</td>\n",
       "      <td>Fiscais e cobradores dos transportes coletivos</td>\n",
       "      <td>511210</td>\n",
       "      <td>Despachante de transportes coletivos (exceto t...</td>\n",
       "    </tr>\n",
       "  </tbody>\n",
       "</table>\n",
       "<p>41857 rows × 22 columns</p>\n",
       "</div>"
      ],
      "text/plain": [
       "      mesano_referencia    SEXO     Faixa_Etaria ADMITIDOS  / DEMITIDOS  \\\n",
       "0                012023   Homem  de 50 a 64 anos              Demitidos   \n",
       "1                012023  Mulher  de 40 a 49 anos              Demitidos   \n",
       "2                012023   Homem  de 25 a 29 anos               Admissão   \n",
       "3                012023   Homem  de 40 a 49 anos               Admissão   \n",
       "4                012023   Homem  de 30 a 39 anos               Admissão   \n",
       "...                 ...     ...              ...                    ...   \n",
       "41852            012023   Homem  de 25 a 29 anos               Admissão   \n",
       "41853            012023   Homem  de 50 a 64 anos               Admissão   \n",
       "41854            012023   Homem  de 40 a 49 anos               Admissão   \n",
       "41855            012023   Homem  de 25 a 29 anos               Admissão   \n",
       "41856            012023   Homem  de 30 a 39 anos              Demitidos   \n",
       "\n",
       "       COD_UF SIGLA_UF            NOME_UF  COD_REGIAO NOME_REGIAO  \\\n",
       "0          13       AM           Amazonas           1       Norte   \n",
       "1          13       AM           Amazonas           1       Norte   \n",
       "2          21       MA           Maranhão           2    Nordeste   \n",
       "3          21       MA           Maranhão           2    Nordeste   \n",
       "4          21       MA           Maranhão           2    Nordeste   \n",
       "...       ...      ...                ...         ...         ...   \n",
       "41852      42       SC     Santa Catarina           4         Sul   \n",
       "41853      42       SC     Santa Catarina           4         Sul   \n",
       "41854      42       SC     Santa Catarina           4         Sul   \n",
       "41855      42       SC     Santa Catarina           4         Sul   \n",
       "41856      43       RS  Rio Grande do Sul           4         Sul   \n",
       "\n",
       "       Grau de Instrucao  ...  COD_CBO_GRUPO  \\\n",
       "0      Superior completo  ...              5   \n",
       "1         Médio completo  ...              1   \n",
       "2      Superior completo  ...              1   \n",
       "3      Superior completo  ...              2   \n",
       "4         Médio completo  ...              3   \n",
       "...                  ...  ...            ...   \n",
       "41852   Médio incompleto  ...              7   \n",
       "41853     Médio completo  ...              7   \n",
       "41854     Médio completo  ...              7   \n",
       "41855     Médio completo  ...              7   \n",
       "41856     Médio completo  ...              5   \n",
       "\n",
       "                                          DESC_CBO_GRUPO  COD_CBO_PSUB  \\\n",
       "0      TRABALHADORES DOS SERVIÇOS, VENDEDORES DO COMÉ...            51   \n",
       "1      MEMBROS SUPERIORES DO PODER PÚBLICO, DIRIGENTE...            14   \n",
       "2      MEMBROS SUPERIORES DO PODER PÚBLICO, DIRIGENTE...            14   \n",
       "3      PROFISSIONAIS DAS CIÊNCIAS E DAS ARTES        ...            21   \n",
       "4      TÉCNICOS DE NIVEL MÉDIO                       ...            31   \n",
       "...                                                  ...           ...   \n",
       "41852  TRABALHADORES DA PRODUÇÃO DE BENS E SERVIÇOS I...            78   \n",
       "41853  TRABALHADORES DA PRODUÇÃO DE BENS E SERVIÇOS I...            78   \n",
       "41854  TRABALHADORES DA PRODUÇÃO DE BENS E SERVIÇOS I...            78   \n",
       "41855  TRABALHADORES DA PRODUÇÃO DE BENS E SERVIÇOS I...            78   \n",
       "41856  TRABALHADORES DOS SERVIÇOS, VENDEDORES DO COMÉ...            51   \n",
       "\n",
       "                                           DESC_CBO_PSUB  COD_CBO_SUBGRUPO  \\\n",
       "0      TRABALHADORES DOS SERVIÇOS                    ...               517   \n",
       "1      GERENTES                                      ...               142   \n",
       "2      GERENTES                                      ...               142   \n",
       "3      PROFISSIONAIS DAS CIÊNCIAS EXATAS, FÍSICAS E D...               214   \n",
       "4      TÉCNICOS DE NÍVEL MÉDIO DAS CIÊNCIAS FÍSICAS, ...               311   \n",
       "...                                                  ...               ...   \n",
       "41852  TRABALHADORES DE FUNÇÕES TRANSVERSAIS         ...               782   \n",
       "41853  TRABALHADORES DE FUNÇÕES TRANSVERSAIS         ...               782   \n",
       "41854  TRABALHADORES DE FUNÇÕES TRANSVERSAIS         ...               782   \n",
       "41855  TRABALHADORES DE FUNÇÕES TRANSVERSAIS         ...               782   \n",
       "41856  TRABALHADORES DOS SERVIÇOS                    ...               511   \n",
       "\n",
       "                                       DESC_CBO_SUBGRUPO  COD_CBO_FAMILIA  \\\n",
       "0      TRABALHADORES NOS SERVIÇOS DE PROTEÇÃO E SEGUR...             5173   \n",
       "1      GERENTES DE ÁREAS DE APOIO                    ...             1424   \n",
       "2      GERENTES DE ÁREAS DE APOIO                    ...             1423   \n",
       "3      ENGENHEIROS, ARQUITETOS E AFINS               ...             2142   \n",
       "4      TÉCNICO EM CIÊNCIAS FÍSICAS E QUÍMICAS        ...             3111   \n",
       "...                                                  ...              ...   \n",
       "41852  CONDUTORES DE VEÍCULOS E OPERADORES DE EQUIPAM...             7827   \n",
       "41853  CONDUTORES DE VEÍCULOS E OPERADORES DE EQUIPAM...             7827   \n",
       "41854  CONDUTORES DE VEÍCULOS E OPERADORES DE EQUIPAM...             7827   \n",
       "41855  CONDUTORES DE VEÍCULOS E OPERADORES DE EQUIPAM...             7827   \n",
       "41856  TRABALHADORES DOS SERVIÇOS DE TRANSPORTE E TUR...             5112   \n",
       "\n",
       "                                        DESC_CBO_FAMILIA  COD_CBO_OCUP  \\\n",
       "0                      Vigilantes e guardas de segurança        517330   \n",
       "1                        Gerentes de suprimentos e afins        142415   \n",
       "2      Gerentes de comercialização, marketing e comun...        142345   \n",
       "3                              Engenheiros civis e afins        214205   \n",
       "4                                      Técnicos químicos        311105   \n",
       "...                                                  ...           ...   \n",
       "41852                          Trabalhadores aquaviários        782705   \n",
       "41853                          Trabalhadores aquaviários        782705   \n",
       "41854                          Trabalhadores aquaviários        782710   \n",
       "41855                          Trabalhadores aquaviários        782720   \n",
       "41856     Fiscais e cobradores dos transportes coletivos        511210   \n",
       "\n",
       "                                           DESC_CBO_OCUP  \n",
       "0                                              Vigilante  \n",
       "1                                Gerente de almoxarifado  \n",
       "2      Profissional de relações institucionais e gove...  \n",
       "3                                       Engenheiro civil  \n",
       "4                                        Técnico químico  \n",
       "...                                                  ...  \n",
       "41852        Marinheiro de convés (marítimo e fluviário)  \n",
       "41853        Marinheiro de convés (marítimo e fluviário)  \n",
       "41854                             Marinheiro de máquinas  \n",
       "41855            Moço de máquinas (marítimo e fluviário)  \n",
       "41856  Despachante de transportes coletivos (exceto t...  \n",
       "\n",
       "[41857 rows x 22 columns]"
      ]
     },
     "execution_count": 31,
     "metadata": {},
     "output_type": "execute_result"
    }
   ],
   "source": [
    "result"
   ]
  },
  {
   "cell_type": "markdown",
   "id": "30a567cd-1c82-4630-86cc-fa0875c6bd15",
   "metadata": {},
   "source": [
    "### PARA BAIXO É SOMENTE ANÁLISES ####"
   ]
  },
  {
   "cell_type": "code",
   "execution_count": 22,
   "id": "e641aa73-e17f-4be0-981d-1effbcc82362",
   "metadata": {},
   "outputs": [
    {
     "data": {
      "text/plain": [
       "Index(['competenciamov', 'regiao', 'uf', 'municipio', 'secao', 'subclasse',\n",
       "       'saldomovimentacao', 'cbo2002ocupacao', 'categoria', 'graudeinstrucao',\n",
       "       'idade', 'horascontratuais', 'racacor', 'sexo', 'tipoempregador',\n",
       "       'tipoestabelecimento', 'tipomovimentacao', 'tipodedeficiencia',\n",
       "       'indtrabintermitente', 'indtrabparcial', 'salario', 'tamestabjan',\n",
       "       'indicadoraprendiz', 'origemdainformacao', 'competenciadec',\n",
       "       'indicadordeforadoprazo', 'unidadesalariocodigo', 'valorsalariofixo',\n",
       "       'mesano_referencia'],\n",
       "      dtype='object')"
      ]
     },
     "execution_count": 22,
     "metadata": {},
     "output_type": "execute_result"
    }
   ],
   "source": [
    "#colunas\n",
    "cagedmov.columns"
   ]
  },
  {
   "cell_type": "code",
   "execution_count": 51,
   "id": "ad2380a6-ada4-4a2c-ba98-2704bc41d618",
   "metadata": {},
   "outputs": [
    {
     "data": {
      "text/plain": [
       "array([202303], dtype=int64)"
      ]
     },
     "execution_count": 51,
     "metadata": {},
     "output_type": "execute_result"
    }
   ],
   "source": [
    "# pegando unico ano e vendo o tipo\n",
    "cagedmov.competenciadec.unique()"
   ]
  },
  {
   "cell_type": "code",
   "execution_count": 24,
   "id": "e901ae1b-b763-4b0e-8c26-61a66575a2e5",
   "metadata": {},
   "outputs": [
    {
     "data": {
      "text/plain": [
       "1973247"
      ]
     },
     "execution_count": 24,
     "metadata": {},
     "output_type": "execute_result"
    }
   ],
   "source": [
    "#total de demitidos\n",
    "total_desl = sum(cagedmov['saldomovimentacao'] == -1)\n",
    "total_desl"
   ]
  },
  {
   "cell_type": "code",
   "execution_count": 25,
   "id": "3cd246cb-3672-4f96-8b4e-199003d94d97",
   "metadata": {},
   "outputs": [
    {
     "data": {
      "text/plain": [
       "2168418"
      ]
     },
     "execution_count": 25,
     "metadata": {},
     "output_type": "execute_result"
    }
   ],
   "source": [
    "#total de admissões\n",
    "total_admit = sum(cagedmov['saldomovimentacao'] == 1)\n",
    "total_admit"
   ]
  },
  {
   "cell_type": "code",
   "execution_count": 26,
   "id": "a5339157-052a-4683-8f20-23d283323335",
   "metadata": {},
   "outputs": [
    {
     "data": {
      "text/plain": [
       "195171"
      ]
     },
     "execution_count": 26,
     "metadata": {},
     "output_type": "execute_result"
    }
   ],
   "source": [
    "# saldo de admissão - demissão\n",
    "saldo = total_admit - total_desl\n",
    "saldo"
   ]
  },
  {
   "cell_type": "code",
   "execution_count": 32,
   "id": "7f775a15-abb8-4015-b463-38630b42694c",
   "metadata": {},
   "outputs": [
    {
     "data": {
      "text/plain": [
       "array([ 5,  7,  1,  8,  4,  9,  6,  2, 80, 10,  3, 11, 99], dtype=int64)"
      ]
     },
     "execution_count": 32,
     "metadata": {},
     "output_type": "execute_result"
    }
   ],
   "source": [
    "#valores unicos por escolaridade\n",
    "cagedmov['graudeinstrucao'].unique()"
   ]
  },
  {
   "cell_type": "code",
   "execution_count": 30,
   "id": "23bd0305-abde-42a3-8295-23295767675b",
   "metadata": {},
   "outputs": [
    {
     "data": {
      "text/plain": [
       "17915"
      ]
     },
     "execution_count": 30,
     "metadata": {},
     "output_type": "execute_result"
    }
   ],
   "source": [
    "# total de analfabetos\n",
    "total_grau_4 = sum(cagedmov['graudeinstrucao'] == 1)\n",
    "total_grau_4"
   ]
  },
  {
   "cell_type": "code",
   "execution_count": 31,
   "id": "8b96497f-54a1-4e10-9ad3-36469e4071ef",
   "metadata": {},
   "outputs": [
    {
     "data": {
      "text/plain": [
       "array([ 1, -1], dtype=int64)"
      ]
     },
     "execution_count": 31,
     "metadata": {},
     "output_type": "execute_result"
    }
   ],
   "source": [
    "# buscando valores de demissão e admissão\n",
    "cagedmov['saldomovimentacao'].unique()"
   ]
  },
  {
   "cell_type": "code",
   "execution_count": 35,
   "id": "2fccb42d-69a8-4a93-b5e3-df24ebe92054",
   "metadata": {},
   "outputs": [
    {
     "name": "stdout",
     "output_type": "stream",
     "text": [
      "<class 'pandas.core.frame.DataFrame'>\n",
      "RangeIndex: 67160 entries, 0 to 67159\n",
      "Data columns (total 29 columns):\n",
      " #   Column                  Non-Null Count  Dtype \n",
      "---  ------                  --------------  ----- \n",
      " 0   competenciamov          67160 non-null  int64 \n",
      " 1   regiao                  67160 non-null  int64 \n",
      " 2   uf                      67160 non-null  int64 \n",
      " 3   municipio               67160 non-null  int64 \n",
      " 4   secao                   67160 non-null  object\n",
      " 5   subclasse               67160 non-null  int64 \n",
      " 6   saldomovimentacao       67160 non-null  int64 \n",
      " 7   cbo2002ocupacao         67160 non-null  int64 \n",
      " 8   categoria               67160 non-null  int64 \n",
      " 9   graudeinstrucao         67160 non-null  int64 \n",
      " 10  idade                   67160 non-null  object\n",
      " 11  horascontratuais        67160 non-null  object\n",
      " 12  racacor                 67160 non-null  int64 \n",
      " 13  sexo                    67160 non-null  int64 \n",
      " 14  tipoempregador          67160 non-null  int64 \n",
      " 15  tipoestabelecimento     67160 non-null  int64 \n",
      " 16  tipomovimentacao        67160 non-null  int64 \n",
      " 17  tipodedeficiencia       67160 non-null  int64 \n",
      " 18  indtrabintermitente     67160 non-null  int64 \n",
      " 19  indtrabparcial          67160 non-null  int64 \n",
      " 20  salario                 67160 non-null  object\n",
      " 21  tamestabjan             67160 non-null  int64 \n",
      " 22  indicadoraprendiz       67160 non-null  int64 \n",
      " 23  origemdainformacao      67160 non-null  int64 \n",
      " 24  competenciadec          67160 non-null  int64 \n",
      " 25  indicadordeforadoprazo  67160 non-null  int64 \n",
      " 26  unidadesalariocodigo    67160 non-null  int64 \n",
      " 27  valorsalariofixo        67160 non-null  object\n",
      " 28  mesano_referencia       67160 non-null  object\n",
      "dtypes: int64(23), object(6)\n",
      "memory usage: 14.9+ MB\n"
     ]
    }
   ],
   "source": [
    "# verificando as informações do dataframe\n",
    "cagedfor.info()"
   ]
  },
  {
   "cell_type": "code",
   "execution_count": 31,
   "id": "dd2ebc3f-31d4-4a25-a4e9-75fe41d9c639",
   "metadata": {},
   "outputs": [
    {
     "name": "stdout",
     "output_type": "stream",
     "text": [
      "\n",
      "Linhas com valores nulos:\n",
      "Empty DataFrame\n",
      "Columns: [competenciamov, regiao, uf, municipio, secao, subclasse, saldomovimentacao, cbo2002ocupacao, categoria, graudeinstrucao, idade, horascontratuais, racacor, sexo, tipoempregador, tipoestabelecimento, tipomovimentacao, tipodedeficiencia, indtrabintermitente, indtrabparcial, salario, tamestabjan, indicadoraprendiz, origemdainformacao, competenciadec, indicadordeforadoprazo, unidadesalariocodigo, valorsalariofixo, mesano_referencia]\n",
      "Index: []\n",
      "\n",
      "[0 rows x 29 columns]\n"
     ]
    }
   ],
   "source": [
    "# Identificar linhas com valores nulos\n",
    "linhas_com_nulos = cagedmov[cagedmov.isnull().sum(axis=1) > 0]\n",
    "print(\"\\nLinhas com valores nulos:\")\n",
    "print(linhas_com_nulos)"
   ]
  },
  {
   "cell_type": "code",
   "execution_count": 32,
   "id": "44c021e1-7392-45c8-9d2f-862010a57168",
   "metadata": {},
   "outputs": [
    {
     "name": "stdout",
     "output_type": "stream",
     "text": [
      "Total de linhas com valores nulos: 0\n"
     ]
    }
   ],
   "source": [
    "# Contar o número de linhas com valores nulos\n",
    "total_linhas_nulos = cagedxc.isnull().any(axis=1).sum()\n",
    "print(\"Total de linhas com valores nulos:\", total_linhas_nulos)"
   ]
  },
  {
   "cell_type": "code",
   "execution_count": 24,
   "id": "8bd4af0b-227c-4896-b8b5-9fed94259fdf",
   "metadata": {},
   "outputs": [],
   "source": [
    "# buscando total de admissão por grau de instrução\n",
    "adm_graus = {}  # Cria um dicionário vazio para armazenar o total de cada admitido por grau de instrução\n",
    "for i in range(1, 12):  # Loop para percorrer os valores de 1 a 11 (inclusive)\n",
    "    adm_graus[i] = sum((cagedmov['graudeinstrucao'] == i) & (cagedmov['saldomovimentacao'] == 1))\n",
    "    # Calcula a soma das condições:\n",
    "    # - Verifica se o valor em 'graudeinstrucao' é igual a 'i'\n",
    "    # - Verifica se o valor em 'saldomovimentacao' é igual a 1\n",
    "    # Soma os resultados das condições e atribui ao dicionário 'agraus' usando 'i' como chave\n",
    "\n",
    "adm_graus[80] = sum((cagedmov['graudeinstrucao'] == 80) & (cagedmov['saldomovimentacao'] == 1))\n",
    "# Calcula a soma das condições para o grau 80 e atribui ao dicionário 'agraus' com chave 80\n",
    "\n",
    "adm_graus[99] = sum((cagedmov['graudeinstrucao'] == 99) & (cagedmov['saldomovimentacao'] == 1))\n",
    "# Calcula a soma das condições para o grau 99 e atribui ao dicionário 'agraus' com chave 99"
   ]
  },
  {
   "cell_type": "code",
   "execution_count": 25,
   "id": "4192f1ac-4991-40d5-aa88-0db34ddb5431",
   "metadata": {},
   "outputs": [
    {
     "name": "stdout",
     "output_type": "stream",
     "text": [
      "Lista de Admissão\n",
      "\n",
      "Analfabeto: 8810\n",
      "Até 5ª Incompleto: 37887\n",
      "5ª Completo Fundamental: 28858\n",
      "6ª a 9ª Fundamental: 94946\n",
      "Fundamental Completo: 154070\n",
      "Médio Incompleto: 162374\n",
      "Médio Completo: 1392551\n",
      "Superior Incompleto: 82439\n",
      "Superior Completo: 179340\n",
      "MESTRADO: 4213\n",
      "DOUTORADO: 1606\n",
      "Pós-Graduação completa: 21324\n",
      "Não Identificado: 0\n"
     ]
    }
   ],
   "source": [
    "# total sem soma de admissão por instrução\n",
    "print(f'Lista de Admissão\\n\\n'\n",
    "      f'Analfabeto: {adm_graus[1]}\\n'\n",
    "      f'Até 5ª Incompleto: {adm_graus[2]}\\n'\n",
    "      f'5ª Completo Fundamental: {adm_graus[3]}\\n'\n",
    "      f'6ª a 9ª Fundamental: {adm_graus[4]}\\n'\n",
    "      f'Fundamental Completo: {adm_graus[5]}\\n'\n",
    "      f'Médio Incompleto: {adm_graus[6]}\\n'\n",
    "      f'Médio Completo: {adm_graus[7]}\\n'\n",
    "      f'Superior Incompleto: {adm_graus[8]}\\n'\n",
    "      f'Superior Completo: {adm_graus[9]}\\n'\n",
    "      f'MESTRADO: {adm_graus[10]}\\n'\n",
    "      f'DOUTORADO: {adm_graus[11]}\\n'\n",
    "      f'Pós-Graduação completa: {adm_graus[80]}\\n'\n",
    "      f'Não Identificado: {adm_graus[99]}')"
   ]
  },
  {
   "cell_type": "code",
   "execution_count": 26,
   "id": "f17e4049-2872-4a93-81f8-1ee0139e60b2",
   "metadata": {},
   "outputs": [
    {
     "name": "stdout",
     "output_type": "stream",
     "text": [
      "Lista de Admissão\n",
      "\n",
      "Analfabeto: 8810\n",
      "Fundamental Incompleto: 161691\n",
      "Fundamental Completo: 154070\n",
      "Médio Incompleto: 162374\n",
      "Médio Completo: 1392551\n",
      "Superior Incompleto: 82439\n",
      "Superior Completo: 206483\n",
      "Não Identificado: 0\n"
     ]
    }
   ],
   "source": [
    "# total com soma de admissão por instrução\n",
    "print(f'Lista de Admissão\\n\\n'\n",
    "      f'Analfabeto: {adm_graus[1]}\\n'\n",
    "      f'Fundamental Incompleto: {adm_graus[2] + adm_graus[3] + adm_graus[4]}\\n'\n",
    "      f'Fundamental Completo: {adm_graus[5]}\\n'\n",
    "      f'Médio Incompleto: {adm_graus[6]}\\n'\n",
    "      f'Médio Completo: {adm_graus[7]}\\n'\n",
    "      f'Superior Incompleto: {adm_graus[8]}\\n'\n",
    "      f'Superior Completo: {adm_graus[9] + adm_graus[10] + adm_graus[11] + adm_graus[80]}\\n'\n",
    "      f'Não Identificado: {adm_graus[99]}')"
   ]
  },
  {
   "cell_type": "code",
   "execution_count": 27,
   "id": "c863853d-5779-4723-8f17-877565b9ca00",
   "metadata": {},
   "outputs": [],
   "source": [
    "# buscando total de demissão por grau de instrução\n",
    "dmt_graus = {}  # Cria um dicionário vazio para armazenar o total de cada admitido por grau de instrução\n",
    "for i in range(1, 12):  # Loop para percorrer os valores de 1 a 11 (inclusive)\n",
    "    dmt_graus[i] = sum((cagedmov['graudeinstrucao'] == i) & (cagedmov['saldomovimentacao'] == -1))\n",
    "    # Calcula a soma das condições:\n",
    "    # - Verifica se o valor em 'graudeinstrucao' é igual a 'i'\n",
    "    # - Verifica se o valor em 'saldomovimentacao' é igual a 1\n",
    "    # Soma os resultados das condições e atribui ao dicionário 'agraus' usando 'i' como chave\n",
    "\n",
    "dmt_graus[80] = sum((cagedmov['graudeinstrucao'] == 80) & (cagedmov['saldomovimentacao'] == -1))\n",
    "# Calcula a soma das condições para o grau 80 e atribui ao dicionário 'agraus' com chave 80\n",
    "\n",
    "dmt_graus[99] = sum((cagedmov['graudeinstrucao'] == 99) & (cagedmov['saldomovimentacao'] == -1))\n",
    "# Calcula a soma das condições para o grau 99 e atribui ao dicionário 'agraus' com chave 99"
   ]
  },
  {
   "cell_type": "code",
   "execution_count": 28,
   "id": "8fa69df0-236b-4537-8b3c-b8c02be12396",
   "metadata": {},
   "outputs": [
    {
     "name": "stdout",
     "output_type": "stream",
     "text": [
      "Lista de Admissão\n",
      "\n",
      "Analfabeto: 9105\n",
      "Até 5ª Incompleto: 41821\n",
      "5ª Completo Fundamental: 32299\n",
      "6ª a 9ª Fundamental: 90891\n",
      "Fundamental Completo: 147883\n",
      "Médio Incompleto: 144981\n",
      "Médio Completo: 1232241\n",
      "Superior Incompleto: 81832\n",
      "Superior Completo: 167916\n",
      "MESTRADO: 3225\n",
      "DOUTORADO: 1150\n",
      "Pós-Graduação completa: 19902\n",
      "Não Identificado: 1\n"
     ]
    }
   ],
   "source": [
    "# total sem soma de demissão por instrução\n",
    "print(f'Lista de Admissão\\n\\n'\n",
    "      f'Analfabeto: {dmt_graus[1]}\\n'\n",
    "      f'Até 5ª Incompleto: {dmt_graus[2]}\\n'\n",
    "      f'5ª Completo Fundamental: {dmt_graus[3]}\\n'\n",
    "      f'6ª a 9ª Fundamental: {dmt_graus[4]}\\n'\n",
    "      f'Fundamental Completo: {dmt_graus[5]}\\n'\n",
    "      f'Médio Incompleto: {dmt_graus[6]}\\n'\n",
    "      f'Médio Completo: {dmt_graus[7]}\\n'\n",
    "      f'Superior Incompleto: {dmt_graus[8]}\\n'\n",
    "      f'Superior Completo: {dmt_graus[9]}\\n'\n",
    "      f'MESTRADO: {dmt_graus[10]}\\n'\n",
    "      f'DOUTORADO: {dmt_graus[11]}\\n'\n",
    "      f'Pós-Graduação completa: {dmt_graus[80]}\\n'\n",
    "      f'Não Identificado: {dmt_graus[99]}')"
   ]
  },
  {
   "cell_type": "code",
   "execution_count": 29,
   "id": "f7abd5ed-942f-4b5f-83ee-e52b714ecdcc",
   "metadata": {},
   "outputs": [
    {
     "name": "stdout",
     "output_type": "stream",
     "text": [
      "Lista de Admissão\n",
      "\n",
      "Analfabeto: 9105\n",
      "Fundamental Incompleto: 165011\n",
      "Fundamental Completo: 147883\n",
      "Médio Incompleto: 144981\n",
      "Médio Completo: 1232241\n",
      "Superior Incompleto: 81832\n",
      "Superior Completo: 192193\n",
      "Não Identificado: 1\n"
     ]
    }
   ],
   "source": [
    "# total com soma de demissão por instrução\n",
    "print(f'Lista de Admissão\\n\\n'\n",
    "      f'Analfabeto: {dmt_graus[1]}\\n'\n",
    "      f'Fundamental Incompleto: {dmt_graus[2] + dmt_graus[3] + dmt_graus[4]}\\n'\n",
    "      f'Fundamental Completo: {dmt_graus[5]}\\n'\n",
    "      f'Médio Incompleto: {dmt_graus[6]}\\n'\n",
    "      f'Médio Completo: {dmt_graus[7]}\\n'\n",
    "      f'Superior Incompleto: {dmt_graus[8]}\\n'\n",
    "      f'Superior Completo: {dmt_graus[9] + dmt_graus[10] + dmt_graus[11] + dmt_graus[80]}\\n'\n",
    "      f'Não Identificado: {dmt_graus[99]}')"
   ]
  },
  {
   "cell_type": "code",
   "execution_count": 30,
   "id": "f8caf2d6-a05a-4c7b-912e-d985dff46942",
   "metadata": {},
   "outputs": [
    {
     "name": "stdout",
     "output_type": "stream",
     "text": [
      "Saldo\n",
      "\n",
      "Analfabeto: -295\n",
      "Fundamental Incompleto: -3320\n",
      "Fundamental Completo: 6187\n",
      "Médio Incompleto: 17393\n",
      "Médio Completo: 160310\n",
      "Superior Incompleto: 607\n",
      "Superior Completo: 14290\n",
      "Não Identificado: -1\n"
     ]
    }
   ],
   "source": [
    "#saldo por grau de instrução\n",
    "a1 = adm_graus[1] - dmt_graus[1]\n",
    "a2 = (adm_graus[2] + adm_graus[3] + adm_graus[4]) - (dmt_graus[2] + dmt_graus[3] + dmt_graus[4])\n",
    "a3 = adm_graus[5] - dmt_graus[5]\n",
    "a4 = adm_graus[6] - dmt_graus[6]\n",
    "a5 = adm_graus[7] - dmt_graus[7]\n",
    "a6 = adm_graus[8] - dmt_graus[8]\n",
    "a7 = (adm_graus[9] + adm_graus[10] + adm_graus[11] + adm_graus[80]) - (dmt_graus[9] + dmt_graus[10] + dmt_graus[11] + dmt_graus[80])\n",
    "a8 = adm_graus[99] - dmt_graus[99]\n",
    "\n",
    "print(f'Saldo\\n\\n'\n",
    "      f'Analfabeto: {a1}\\n'\n",
    "      f'Fundamental Incompleto: {a2}\\n'\n",
    "      f'Fundamental Completo: {a3}\\n'\n",
    "      f'Médio Incompleto: {a4}\\n'\n",
    "      f'Médio Completo: {a5}\\n'\n",
    "      f'Superior Incompleto: {a6}\\n'\n",
    "      f'Superior Completo: {a7}\\n'\n",
    "      f'Não Identificado: {a8}')"
   ]
  },
  {
   "cell_type": "code",
   "execution_count": null,
   "id": "f2499d40-3e59-4f05-8fde-cd2b915e9a05",
   "metadata": {
    "jupyter": {
     "source_hidden": true
    },
    "tags": []
   },
   "outputs": [],
   "source": [
    "# if ano < 2020: \n",
    "#     url = f\"ftp://ftp.mtps.gov.br/pdet/microdados/CAGED/{ano}/CAGEDEST_{mes}{ano}.7z\"\n",
    "#     wget.download(url, 'caged.7z')\n",
    "#     archive = SevenZipFile('caged.7z', mode = 'r')\n",
    "#     archive.extractall()\n",
    "#     print('microdados baixados e extraídos com sucesso')\n",
    "    \n",
    "#     data = pd.read_csv(f'CAGEDEST_{mes}{ano}.txt', sep = ';', encoding = 'iso-8859-1')\n",
    "#     print(f'dataframe {mes}-{ano} montado com sucesso')\n",
    "    \n",
    "#     archive.close()\n",
    "#     remove('caged.7z') \n",
    "#     del url\n",
    "#     print('ftp desconectado e arquivos removidos')\n",
    "    \n",
    "# elif ano >= 2020:\n",
    "#     url = f'ftp://ftp.mtps.gov.br/pdet/microdados/NOVO CAGED/{ano}/{ano}{mes}/CAGEDMOV{ano}{mes}.7z'\n",
    "#     try:\n",
    "#         wget.download(url, 'caged.7z')\n",
    "#     except:\n",
    "#         print('Os microdados do mês selecionado ainda não estão disponíveis')\n",
    "        \n",
    "#     archive = SevenZipFile('caged.7z', mode = 'r')\n",
    "#     archive.extractall()\n",
    "#     print('microdados baixados com sucesso.')\n",
    "    \n",
    "#     data = pd.read_csv(f'CAGEDMOV{ano}{mes}.txt', sep = ';', encoding = 'UTF-8')\n",
    "#     print(f'dataframe {mes}-{ano} montado com sucesso')\n",
    "    \n",
    "#     archive.close()\n",
    "#     remove('caged.7z')\n",
    "#     del url\n",
    "#     print('ftp desconectado e arquivos removidos')\n",
    "\n",
    "# todos os dados com grau de instrução até 80 de admitidos\n",
    "#cagedmov.loc[(cagedmov['graudeinstrucao'] == 80) & (cagedmov['saldomovimentacao'] == 1)]"
   ]
  }
 ],
 "metadata": {
  "kernelspec": {
   "display_name": "Python 3 (ipykernel)",
   "language": "python",
   "name": "python3"
  },
  "language_info": {
   "codemirror_mode": {
    "name": "ipython",
    "version": 3
   },
   "file_extension": ".py",
   "mimetype": "text/x-python",
   "name": "python",
   "nbconvert_exporter": "python",
   "pygments_lexer": "ipython3",
   "version": "3.10.9"
  }
 },
 "nbformat": 4,
 "nbformat_minor": 5
}
